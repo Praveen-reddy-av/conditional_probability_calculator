{
 "cells": [
  {
   "cell_type": "markdown",
   "metadata": {
    "id": "Dr9VsOcir4Tw"
   },
   "source": [
    "# AI Project 3 & Bonus"
   ]
  },
  {
   "cell_type": "markdown",
   "metadata": {
    "id": "HoLdXklKnIz3"
   },
   "source": [
    "## Imports"
   ]
  },
  {
   "cell_type": "code",
   "execution_count": 1,
   "metadata": {
    "id": "Eamj4XDmmi1A",
    "tags": []
   },
   "outputs": [],
   "source": [
    "import re\n",
    "import networkx as nx #Bonus\n",
    "import matplotlib.pyplot as plt #Bonus"
   ]
  },
  {
   "cell_type": "markdown",
   "metadata": {
    "id": "Iscn6ZOBnK4D"
   },
   "source": [
    "## seperateAnds function"
   ]
  },
  {
   "cell_type": "code",
   "execution_count": 2,
   "metadata": {
    "id": "1I8DhcDQIz49",
    "tags": []
   },
   "outputs": [],
   "source": [
    "#Function to seperate A^B to [A,B]\n",
    "def separateAnds(notation):\n",
    "    if '^' in notation:\n",
    "        return notation.split('^')\n",
    "    else:\n",
    "        return [notation]"
   ]
  },
  {
   "cell_type": "markdown",
   "metadata": {
    "id": "J3uL35lAnPQU"
   },
   "source": [
    "## getEventEvidence function"
   ]
  },
  {
   "cell_type": "code",
   "execution_count": 3,
   "metadata": {
    "id": "xsDr_cAKH3GK",
    "tags": []
   },
   "outputs": [],
   "source": [
    "#Function to seperate the event and evidence from the user input\n",
    "def getEventEvidence(inp):\n",
    "  # input = \"P(A | FH^high)\"\n",
    "  match = re.match(r\"P\\(([^)]+)\\)\",inp)\n",
    "  ins = match.group(1)\n",
    "  lst=[a.strip() for a in ins.split(\"|\")]\n",
    "  return lst"
   ]
  },
  {
   "cell_type": "markdown",
   "metadata": {
    "id": "_bqOLScfnSLy"
   },
   "source": [
    "## calculate_conditional_probability function"
   ]
  },
  {
   "cell_type": "code",
   "execution_count": 4,
   "metadata": {
    "id": "nxQzgqKJHszd",
    "tags": []
   },
   "outputs": [],
   "source": [
    "#Function that applies Bayes Theorem\n",
    "def calculate_conditional_probability(joint_distribution, event, evidence):\n",
    "    #Separate based on '^'\n",
    "    evidence_list = separateAnds(evidence)\n",
    "    event_list = separateAnds(event)\n",
    "    # print(evidence_list)\n",
    "\n",
    "    #Initialize the denominator and numerator\n",
    "    den_sum=0\n",
    "    num_sum=0\n",
    "\n",
    "    for key,value in joint_distribution.items():\n",
    "      # if (evidence_list[0] in key):\n",
    "      if all(evidence in key for evidence in evidence_list):\n",
    "        # print(value)\n",
    "        den_sum+=value\n",
    "    # print(\"Denometer: \",den_sum)\n",
    "\n",
    "    numerator=evidence_list+event_list\n",
    "\n",
    "    for key,value in joint_distribution.items():\n",
    "      if all(notation in key for notation in numerator):\n",
    "        # print(value)\n",
    "        num_sum+=value\n",
    "        num_sum= round(num_sum,5)\n",
    "\n",
    "    # print(\"Numerator\", num_sum)\n",
    "    # print(\"Denometer\",den_sum)\n",
    "\n",
    "    return num_sum/den_sum"
   ]
  },
  {
   "cell_type": "markdown",
   "metadata": {
    "id": "kPa5SAg0nWZX"
   },
   "source": [
    "## Main program"
   ]
  },
  {
   "cell_type": "code",
   "execution_count": 6,
   "metadata": {
    "colab": {
     "base_uri": "https://localhost:8080/"
    },
    "id": "kBBB-QS9H0t3",
    "outputId": "0d53c70a-18f4-4603-a497-204519cd1fdd",
    "tags": []
   },
   "outputs": [
    {
     "name": "stdin",
     "output_type": "stream",
     "text": [
      "Enter the Proabililty you would like to check?\n",
      "Input format example: P(A | ~F_H^high):\n",
      " P(A|~F_H^high)\n"
     ]
    },
    {
     "name": "stdout",
     "output_type": "stream",
     "text": [
      "0.95\n"
     ]
    }
   ],
   "source": [
    "joint_distribution = {\n",
    "    ('high', 'A', 'F_H'): 0.175,\n",
    "    ('high', '~A', 'F_H'): 0.075,\n",
    "    ('normal', 'A', 'F_H'): 0.05,\n",
    "    ('normal', '~A', 'F_H'): 0.2,\n",
    "    ('high', 'A', '~F_H'): 0.2375,\n",
    "    ('high', '~A', '~F_H'): 0.0125,\n",
    "    ('normal', 'A', '~F_H'): 0.0125,\n",
    "    ('normal', '~A', '~F_H'): 0.2375\n",
    "}\n",
    "\n",
    "# inp1=\"P(A|F_H)\"\n",
    "# inp2=\"P(A|~F_H^high)\"\n",
    "# inp3=\"P(F_H^high|~A)\"\n",
    "# inp4=\"P(A|F_H^high)\"\n",
    "\n",
    "inp= input(\"Enter the Proabililty you would like to check?\\nInput format example: P(A | ~F_H^high):\\n\")\n",
    "\n",
    "splitList=getEventEvidence(inp)\n",
    "print(calculate_conditional_probability(joint_distribution, splitList[0],splitList[1]))"
   ]
  },
  {
   "cell_type": "markdown",
   "metadata": {
    "id": "DL3Ja9lrrZ_n"
   },
   "source": [
    "## Bounus"
   ]
  },
  {
   "cell_type": "code",
   "execution_count": 7,
   "metadata": {
    "colab": {
     "base_uri": "https://localhost:8080/",
     "height": 516
    },
    "id": "d8umz56OncS_",
    "outputId": "f0ed9618-b6f3-4d5d-d559-d56fed47ce7d",
    "tags": []
   },
   "outputs": [
    {
     "data": {
      "image/png": "[encoded data removed]",
      "text/plain": [
       "<Figure size 640x480 with 1 Axes>"
      ]
     },
     "metadata": {},
     "output_type": "display_data"
    }
   ],
   "source": [
    "#Directed graph\n",
    "G = nx.DiGraph()\n",
    "\n",
    "#Adding the nodes\n",
    "G.add_nodes_from([\"A\", \"FA\", \"FH\", \"H\", \"M\"])\n",
    "\n",
    "#Adding the edges, the dependencies\n",
    "G.add_edges_from([(\"M\", \"FH\"), (\"M\", \"H\"), (\"FH\", \"H\"), (\"H\", \"A\"), (\"FA\", \"A\")])\n",
    "\n",
    "#Setting positions for prettier view\n",
    "pos = {\"A\": (1, 3), \"FA\": (2, 2), \"FH\": (0, 1), \"H\": (2, 1), \"M\": (1, 0)}\n",
    "\n",
    "#Drawing the graph\n",
    "nx.draw(G, pos, with_labels=True, node_size=1000, node_color=\"lightgreen\", font_size=8, font_color=\"black\", arrowsize=10, connectionstyle=\"arc\")\n",
    "plt.show()\n"
   ]
  },
  {
   "cell_type": "code",
   "execution_count": null,
   "metadata": {
    "id": "YIyrSf4koarT"
   },
   "outputs": [],
   "source": []
  }
 ],
 "metadata": {
  "colab": {
   "provenance": []
  },
  "kernelspec": {
   "display_name": "Python 3 (ipykernel)",
   "language": "python",
   "name": "python3"
  },
  "language_info": {
   "codemirror_mode": {
    "name": "ipython",
    "version": 3
   },
   "file_extension": ".py",
   "mimetype": "text/x-python",
   "name": "python",
   "nbconvert_exporter": "python",
   "pygments_lexer": "ipython3",
   "version": "3.11.5"
  }
 },
 "nbformat": 4,
 "nbformat_minor": 4
}
